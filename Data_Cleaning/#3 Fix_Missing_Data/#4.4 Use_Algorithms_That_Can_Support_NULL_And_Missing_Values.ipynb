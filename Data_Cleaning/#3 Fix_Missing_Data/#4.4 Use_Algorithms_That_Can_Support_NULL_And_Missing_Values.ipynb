{
 "cells": [
  {
   "cell_type": "markdown",
   "id": "3bd7f292",
   "metadata": {},
   "source": [
    "### Use algorithms which can ignore Null and Missing Data in Prediction\n",
    "\n",
    "#### Not all machine learning algorithms can handle missing data, but some are good at dealing with it. For example, k-Nearest Neighbors can ignore a column with missing values when comparing data points, and Naive Bayes can still make predictions even if some values are missing.\n",
    "\n",
    "#### Another useful algorithm for datasets with missing values is RandomForest. It works well on non-linear and categorical data, adapting to different patterns in the data and giving better results on large datasets."
   ]
  },
  {
   "cell_type": "markdown",
   "id": "54b1a6eb",
   "metadata": {},
   "source": [
    "# Done, Thanks to visit, \n",
    "# Wish you luck in this field ✨"
   ]
  }
 ],
 "metadata": {
  "kernelspec": {
   "display_name": "Python 3 (ipykernel)",
   "language": "python",
   "name": "python3"
  },
  "language_info": {
   "codemirror_mode": {
    "name": "ipython",
    "version": 3
   },
   "file_extension": ".py",
   "mimetype": "text/x-python",
   "name": "python",
   "nbconvert_exporter": "python",
   "pygments_lexer": "ipython3",
   "version": "3.11.3"
  }
 },
 "nbformat": 4,
 "nbformat_minor": 5
}
