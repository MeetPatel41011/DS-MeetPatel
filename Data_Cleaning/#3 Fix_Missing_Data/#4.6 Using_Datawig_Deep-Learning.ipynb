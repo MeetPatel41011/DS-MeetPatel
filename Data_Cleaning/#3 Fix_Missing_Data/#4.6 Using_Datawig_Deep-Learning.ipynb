{
 "cells": [
  {
   "cell_type": "markdown",
   "id": "df89a6d4",
   "metadata": {},
   "source": [
    "# Using Datawig - A Deep Learning library"
   ]
  },
  {
   "cell_type": "code",
   "execution_count": 1,
   "id": "b7b9147f",
   "metadata": {},
   "outputs": [],
   "source": [
    "import missingno as msno\n",
    "import pandas as pd\n"
   ]
  },
  {
   "cell_type": "code",
   "execution_count": 2,
   "id": "e1e60b4a",
   "metadata": {
    "scrolled": true
   },
   "outputs": [
    {
     "data": {
      "text/html": [
       "<div>\n",
       "<style scoped>\n",
       "    .dataframe tbody tr th:only-of-type {\n",
       "        vertical-align: middle;\n",
       "    }\n",
       "\n",
       "    .dataframe tbody tr th {\n",
       "        vertical-align: top;\n",
       "    }\n",
       "\n",
       "    .dataframe thead th {\n",
       "        text-align: right;\n",
       "    }\n",
       "</style>\n",
       "<table border=\"1\" class=\"dataframe\">\n",
       "  <thead>\n",
       "    <tr style=\"text-align: right;\">\n",
       "      <th></th>\n",
       "      <th>age</th>\n",
       "      <th>gender</th>\n",
       "      <th>weight</th>\n",
       "      <th>salary</th>\n",
       "      <th>height</th>\n",
       "    </tr>\n",
       "  </thead>\n",
       "  <tbody>\n",
       "    <tr>\n",
       "      <th>0</th>\n",
       "      <td>54.0</td>\n",
       "      <td>M</td>\n",
       "      <td>100.0</td>\n",
       "      <td>59073.02</td>\n",
       "      <td>196</td>\n",
       "    </tr>\n",
       "    <tr>\n",
       "      <th>1</th>\n",
       "      <td>57.0</td>\n",
       "      <td>M</td>\n",
       "      <td>51.7</td>\n",
       "      <td>91981.42</td>\n",
       "      <td>177</td>\n",
       "    </tr>\n",
       "    <tr>\n",
       "      <th>2</th>\n",
       "      <td>44.0</td>\n",
       "      <td>M</td>\n",
       "      <td>94.3</td>\n",
       "      <td>43037.00</td>\n",
       "      <td>177</td>\n",
       "    </tr>\n",
       "    <tr>\n",
       "      <th>3</th>\n",
       "      <td>42.0</td>\n",
       "      <td>M</td>\n",
       "      <td>83.4</td>\n",
       "      <td>49766.42</td>\n",
       "      <td>173</td>\n",
       "    </tr>\n",
       "    <tr>\n",
       "      <th>4</th>\n",
       "      <td>37.0</td>\n",
       "      <td>M</td>\n",
       "      <td>82.2</td>\n",
       "      <td>84871.58</td>\n",
       "      <td>186</td>\n",
       "    </tr>\n",
       "    <tr>\n",
       "      <th>...</th>\n",
       "      <td>...</td>\n",
       "      <td>...</td>\n",
       "      <td>...</td>\n",
       "      <td>...</td>\n",
       "      <td>...</td>\n",
       "    </tr>\n",
       "    <tr>\n",
       "      <th>95</th>\n",
       "      <td>45.0</td>\n",
       "      <td>M</td>\n",
       "      <td>71.2</td>\n",
       "      <td>93915.33</td>\n",
       "      <td>172</td>\n",
       "    </tr>\n",
       "    <tr>\n",
       "      <th>96</th>\n",
       "      <td>NaN</td>\n",
       "      <td>F</td>\n",
       "      <td>70.7</td>\n",
       "      <td>46465.07</td>\n",
       "      <td>154</td>\n",
       "    </tr>\n",
       "    <tr>\n",
       "      <th>97</th>\n",
       "      <td>55.0</td>\n",
       "      <td>F</td>\n",
       "      <td>59.3</td>\n",
       "      <td>66958.52</td>\n",
       "      <td>180</td>\n",
       "    </tr>\n",
       "    <tr>\n",
       "      <th>98</th>\n",
       "      <td>32.0</td>\n",
       "      <td>F</td>\n",
       "      <td>90.7</td>\n",
       "      <td>47718.31</td>\n",
       "      <td>163</td>\n",
       "    </tr>\n",
       "    <tr>\n",
       "      <th>99</th>\n",
       "      <td>60.0</td>\n",
       "      <td>F</td>\n",
       "      <td>89.6</td>\n",
       "      <td>79962.43</td>\n",
       "      <td>194</td>\n",
       "    </tr>\n",
       "  </tbody>\n",
       "</table>\n",
       "<p>100 rows × 5 columns</p>\n",
       "</div>"
      ],
      "text/plain": [
       "     age gender  weight    salary  height\n",
       "0   54.0      M   100.0  59073.02     196\n",
       "1   57.0      M    51.7  91981.42     177\n",
       "2   44.0      M    94.3  43037.00     177\n",
       "3   42.0      M    83.4  49766.42     173\n",
       "4   37.0      M    82.2  84871.58     186\n",
       "..   ...    ...     ...       ...     ...\n",
       "95  45.0      M    71.2  93915.33     172\n",
       "96   NaN      F    70.7  46465.07     154\n",
       "97  55.0      F    59.3  66958.52     180\n",
       "98  32.0      F    90.7  47718.31     163\n",
       "99  60.0      F    89.6  79962.43     194\n",
       "\n",
       "[100 rows x 5 columns]"
      ]
     },
     "execution_count": 2,
     "metadata": {},
     "output_type": "execute_result"
    }
   ],
   "source": [
    "df = pd.read_csv(\"dataset.csv\", encoding='latin-1') #data src: https://www.kaggle.com/datasets/jmataya/missingmigrants\n",
    "df"
   ]
  },
  {
   "cell_type": "code",
   "execution_count": 3,
   "id": "a13e4442",
   "metadata": {},
   "outputs": [
    {
     "data": {
      "text/html": [
       "<div>\n",
       "<style scoped>\n",
       "    .dataframe tbody tr th:only-of-type {\n",
       "        vertical-align: middle;\n",
       "    }\n",
       "\n",
       "    .dataframe tbody tr th {\n",
       "        vertical-align: top;\n",
       "    }\n",
       "\n",
       "    .dataframe thead th {\n",
       "        text-align: right;\n",
       "    }\n",
       "</style>\n",
       "<table border=\"1\" class=\"dataframe\">\n",
       "  <thead>\n",
       "    <tr style=\"text-align: right;\">\n",
       "      <th></th>\n",
       "      <th>age</th>\n",
       "      <th>gender</th>\n",
       "      <th>weight</th>\n",
       "      <th>salary</th>\n",
       "      <th>height</th>\n",
       "    </tr>\n",
       "  </thead>\n",
       "  <tbody>\n",
       "    <tr>\n",
       "      <th>0</th>\n",
       "      <td>54.0</td>\n",
       "      <td>1</td>\n",
       "      <td>100.0</td>\n",
       "      <td>59073.02</td>\n",
       "      <td>196</td>\n",
       "    </tr>\n",
       "    <tr>\n",
       "      <th>1</th>\n",
       "      <td>57.0</td>\n",
       "      <td>1</td>\n",
       "      <td>51.7</td>\n",
       "      <td>91981.42</td>\n",
       "      <td>177</td>\n",
       "    </tr>\n",
       "    <tr>\n",
       "      <th>2</th>\n",
       "      <td>44.0</td>\n",
       "      <td>1</td>\n",
       "      <td>94.3</td>\n",
       "      <td>43037.00</td>\n",
       "      <td>177</td>\n",
       "    </tr>\n",
       "    <tr>\n",
       "      <th>3</th>\n",
       "      <td>42.0</td>\n",
       "      <td>1</td>\n",
       "      <td>83.4</td>\n",
       "      <td>49766.42</td>\n",
       "      <td>173</td>\n",
       "    </tr>\n",
       "    <tr>\n",
       "      <th>4</th>\n",
       "      <td>37.0</td>\n",
       "      <td>1</td>\n",
       "      <td>82.2</td>\n",
       "      <td>84871.58</td>\n",
       "      <td>186</td>\n",
       "    </tr>\n",
       "    <tr>\n",
       "      <th>...</th>\n",
       "      <td>...</td>\n",
       "      <td>...</td>\n",
       "      <td>...</td>\n",
       "      <td>...</td>\n",
       "      <td>...</td>\n",
       "    </tr>\n",
       "    <tr>\n",
       "      <th>95</th>\n",
       "      <td>45.0</td>\n",
       "      <td>1</td>\n",
       "      <td>71.2</td>\n",
       "      <td>93915.33</td>\n",
       "      <td>172</td>\n",
       "    </tr>\n",
       "    <tr>\n",
       "      <th>96</th>\n",
       "      <td>NaN</td>\n",
       "      <td>0</td>\n",
       "      <td>70.7</td>\n",
       "      <td>46465.07</td>\n",
       "      <td>154</td>\n",
       "    </tr>\n",
       "    <tr>\n",
       "      <th>97</th>\n",
       "      <td>55.0</td>\n",
       "      <td>0</td>\n",
       "      <td>59.3</td>\n",
       "      <td>66958.52</td>\n",
       "      <td>180</td>\n",
       "    </tr>\n",
       "    <tr>\n",
       "      <th>98</th>\n",
       "      <td>32.0</td>\n",
       "      <td>0</td>\n",
       "      <td>90.7</td>\n",
       "      <td>47718.31</td>\n",
       "      <td>163</td>\n",
       "    </tr>\n",
       "    <tr>\n",
       "      <th>99</th>\n",
       "      <td>60.0</td>\n",
       "      <td>0</td>\n",
       "      <td>89.6</td>\n",
       "      <td>79962.43</td>\n",
       "      <td>194</td>\n",
       "    </tr>\n",
       "  </tbody>\n",
       "</table>\n",
       "<p>100 rows × 5 columns</p>\n",
       "</div>"
      ],
      "text/plain": [
       "     age  gender  weight    salary  height\n",
       "0   54.0       1   100.0  59073.02     196\n",
       "1   57.0       1    51.7  91981.42     177\n",
       "2   44.0       1    94.3  43037.00     177\n",
       "3   42.0       1    83.4  49766.42     173\n",
       "4   37.0       1    82.2  84871.58     186\n",
       "..   ...     ...     ...       ...     ...\n",
       "95  45.0       1    71.2  93915.33     172\n",
       "96   NaN       0    70.7  46465.07     154\n",
       "97  55.0       0    59.3  66958.52     180\n",
       "98  32.0       0    90.7  47718.31     163\n",
       "99  60.0       0    89.6  79962.43     194\n",
       "\n",
       "[100 rows x 5 columns]"
      ]
     },
     "execution_count": 3,
     "metadata": {},
     "output_type": "execute_result"
    }
   ],
   "source": [
    "df[\"gender\"] = [1 if x == \"M\" else 0 if x == \"F\" else None for x in df[\"gender\"]]\n",
    "df"
   ]
  },
  {
   "cell_type": "code",
   "execution_count": 4,
   "id": "5ae3d4fb",
   "metadata": {},
   "outputs": [
    {
     "data": {
      "text/plain": [
       "<Axes: >"
      ]
     },
     "execution_count": 4,
     "metadata": {},
     "output_type": "execute_result"
    },
    {
     "data": {
      "image/png": "[encoded data removed]",
      "text/plain": [
       "<Figure size 2500x1000 with 2 Axes>"
      ]
     },
     "metadata": {},
     "output_type": "display_data"
    }
   ],
   "source": [
    "msno.matrix(df)"
   ]
  },
  {
   "cell_type": "code",
   "execution_count": 5,
   "id": "9dfaf6bf",
   "metadata": {},
   "outputs": [
    {
     "name": "stdout",
     "output_type": "stream",
     "text": [
      "Requirement already satisfied: setuptools in c:\\users\\meet patel\\appdata\\local\\programs\\python\\python311\\lib\\site-packages (65.5.0)\n",
      "Requirement already satisfied: wheel in c:\\users\\meet patel\\appdata\\local\\programs\\python\\python311\\lib\\site-packages (0.40.0)\n",
      "Note: you may need to restart the kernel to use updated packages.\n"
     ]
    }
   ],
   "source": [
    "pip install setuptools wheel"
   ]
  },
  {
   "cell_type": "code",
   "execution_count": 6,
   "id": "73eab57d",
   "metadata": {},
   "outputs": [
    {
     "name": "stdout",
     "output_type": "stream",
     "text": [
      "Requirement already satisfied: numpy in c:\\users\\meet patel\\appdata\\local\\programs\\python\\python311\\lib\\site-packages (1.23.5)\n",
      "Note: you may need to restart the kernel to use updated packages.\n"
     ]
    }
   ],
   "source": [
    "pip install numpy"
   ]
  },
  {
   "cell_type": "code",
   "execution_count": 7,
   "id": "633b5a35",
   "metadata": {},
   "outputs": [
    {
     "name": "stdout",
     "output_type": "stream",
     "text": [
      "Requirement already satisfied: pip in c:\\users\\meet patel\\appdata\\local\\programs\\python\\python311\\lib\\site-packages (23.2.1)\n",
      "Note: you may need to restart the kernel to use updated packages.\n"
     ]
    }
   ],
   "source": [
    "pip install --upgrade pip"
   ]
  },
  {
   "cell_type": "code",
   "execution_count": 8,
   "id": "46e14673",
   "metadata": {},
   "outputs": [
    {
     "name": "stdout",
     "output_type": "stream",
     "text": [
      "Requirement already satisfied: scipy in c:\\users\\meet patel\\appdata\\local\\programs\\python\\python311\\lib\\site-packages (1.10.1)\n",
      "Requirement already satisfied: numpy<1.27.0,>=1.19.5 in c:\\users\\meet patel\\appdata\\local\\programs\\python\\python311\\lib\\site-packages (from scipy) (1.23.5)\n",
      "Note: you may need to restart the kernel to use updated packages.\n"
     ]
    }
   ],
   "source": [
    "pip install scipy"
   ]
  },
  {
   "cell_type": "code",
   "execution_count": 9,
   "id": "d2dff08b",
   "metadata": {
    "scrolled": false
   },
   "outputs": [
    {
     "name": "stdout",
     "output_type": "stream",
     "text": [
      "Collecting datawig\n",
      "  Using cached datawig-0.2.0.tar.gz (61 kB)\n",
      "  Preparing metadata (setup.py): started\n",
      "  Preparing metadata (setup.py): finished with status 'done'\n",
      "Collecting scikit-learn[alldeps]==0.22.1 (from datawig)\n",
      "  Using cached scikit-learn-0.22.1.tar.gz (6.9 MB)\n",
      "  Preparing metadata (setup.py): started\n",
      "  Preparing metadata (setup.py): finished with status 'done'\n",
      "Collecting typing==3.6.6 (from datawig)\n",
      "  Using cached typing-3.6.6-py3-none-any.whl (25 kB)\n",
      "Collecting pandas==0.25.3 (from datawig)\n",
      "  Using cached pandas-0.25.3.tar.gz (12.6 MB)\n",
      "  Preparing metadata (setup.py): started\n",
      "  Preparing metadata (setup.py): finished with status 'done'\n",
      "Collecting mxnet==1.4.0 (from datawig)\n",
      "  Using cached mxnet-1.4.0-py2.py3-none-win_amd64.whl (21.9 MB)\n",
      "Collecting numpy<1.15.0,>=1.8.2 (from mxnet==1.4.0->datawig)\n",
      "  Using cached numpy-1.14.6.zip (4.9 MB)\n",
      "  Preparing metadata (setup.py): started\n",
      "  Preparing metadata (setup.py): finished with status 'done'\n",
      "Collecting requests<2.19.0,>=2.18.4 (from mxnet==1.4.0->datawig)\n",
      "  Using cached requests-2.18.4-py2.py3-none-any.whl (88 kB)\n",
      "Collecting graphviz<0.9.0,>=0.8.1 (from mxnet==1.4.0->datawig)\n",
      "  Using cached graphviz-0.8.4-py2.py3-none-any.whl (16 kB)\n",
      "Requirement already satisfied: python-dateutil>=2.6.1 in c:\\users\\meet patel\\appdata\\local\\programs\\python\\python311\\lib\\site-packages (from pandas==0.25.3->datawig) (2.8.2)\n",
      "Requirement already satisfied: pytz>=2017.2 in c:\\users\\meet patel\\appdata\\local\\programs\\python\\python311\\lib\\site-packages (from pandas==0.25.3->datawig) (2023.3)\n",
      "Requirement already satisfied: scipy>=0.17.0 in c:\\users\\meet patel\\appdata\\local\\programs\\python\\python311\\lib\\site-packages (from scikit-learn[alldeps]==0.22.1->datawig) (1.10.1)\n",
      "Requirement already satisfied: joblib>=0.11 in c:\\users\\meet patel\\appdata\\local\\programs\\python\\python311\\lib\\site-packages (from scikit-learn[alldeps]==0.22.1->datawig) (1.2.0)\n",
      "Requirement already satisfied: six>=1.5 in c:\\users\\meet patel\\appdata\\local\\programs\\python\\python311\\lib\\site-packages (from python-dateutil>=2.6.1->pandas==0.25.3->datawig) (1.16.0)\n",
      "Requirement already satisfied: certifi>=2017.4.17 in c:\\users\\meet patel\\appdata\\local\\programs\\python\\python311\\lib\\site-packages (from requests<2.19.0,>=2.18.4->mxnet==1.4.0->datawig) (2022.12.7)\n",
      "Collecting chardet<3.1.0,>=3.0.2 (from requests<2.19.0,>=2.18.4->mxnet==1.4.0->datawig)\n",
      "  Using cached chardet-3.0.4-py2.py3-none-any.whl (133 kB)\n",
      "Collecting idna<2.7,>=2.5 (from requests<2.19.0,>=2.18.4->mxnet==1.4.0->datawig)\n",
      "  Using cached idna-2.6-py2.py3-none-any.whl (56 kB)\n",
      "Collecting urllib3<1.23,>=1.21.1 (from requests<2.19.0,>=2.18.4->mxnet==1.4.0->datawig)\n",
      "  Using cached urllib3-1.22-py2.py3-none-any.whl (132 kB)\n",
      "INFO: pip is looking at multiple versions of scipy to determine which version is compatible with other requirements. This could take a while.\n",
      "Collecting scipy>=0.17.0 (from scikit-learn[alldeps]==0.22.1->datawig)\n",
      "  Obtaining dependency information for scipy>=0.17.0 from https://files.pythonhosted.org/packages/04/b8/947f40706ee2e316fd1a191688f690c4c2b351c2d043fe9deb9b7940e36e/scipy-1.11.1-cp311-cp311-win_amd64.whl.metadata\n",
      "  Using cached scipy-1.11.1-cp311-cp311-win_amd64.whl.metadata (59 kB)\n",
      "  Using cached scipy-1.10.0-cp311-cp311-win_amd64.whl (42.2 MB)\n",
      "  Using cached scipy-1.9.3-cp311-cp311-win_amd64.whl (39.9 MB)\n",
      "  Using cached scipy-1.9.2-cp311-cp311-win_amd64.whl (39.9 MB)\n",
      "  Using cached scipy-1.9.1.tar.gz (42.0 MB)\n",
      "  Installing build dependencies: started\n",
      "  Installing build dependencies: finished with status 'done'\n",
      "  Getting requirements to build wheel: started\n",
      "  Getting requirements to build wheel: finished with status 'error'\n",
      "Note: you may need to restart the kernel to use updated packages.\n"
     ]
    },
    {
     "name": "stderr",
     "output_type": "stream",
     "text": [
      "  error: subprocess-exited-with-error\n",
      "  \n",
      "  Getting requirements to build wheel did not run successfully.\n",
      "  exit code: 1\n",
      "  \n",
      "  [55 lines of output]\n",
      "  The Meson build system\n",
      "  Version: 0.62.2\n",
      "  Source dir: C:\\Users\\Meet Patel\\AppData\\Local\\Temp\\pip-install-290g0zvg\\scipy_449c03903a0c47778dab304fb1bd3852\n",
      "  Build dir: C:\\Users\\Meet Patel\\AppData\\Local\\Temp\\pip-install-290g0zvg\\scipy_449c03903a0c47778dab304fb1bd3852\\.mesonpy-6ilxbuhs\\build\n",
      "  Build type: native build\n",
      "  Project name: SciPy\n",
      "  Project version: 1.9.1\n",
      "  WARNING: Failed to activate VS environment: Could not parse vswhere.exe output\n",
      "  \n",
      "  ..\\..\\meson.build:1:0: ERROR: Unknown compiler(s): [['icl'], ['cl'], ['cc'], ['gcc'], ['clang'], ['clang-cl'], ['pgcc']]\n",
      "  The following exception(s) were encountered:\n",
      "  Running \"icl \" gave \"[WinError 2] The system cannot find the file specified\"\n",
      "  Running \"cl /?\" gave \"[WinError 2] The system cannot find the file specified\"\n",
      "  Running \"cc --version\" gave \"[WinError 2] The system cannot find the file specified\"\n",
      "  Running \"gcc --version\" gave \"[WinError 2] The system cannot find the file specified\"\n",
      "  Running \"clang --version\" gave \"[WinError 2] The system cannot find the file specified\"\n",
      "  Running \"clang-cl /?\" gave \"[WinError 2] The system cannot find the file specified\"\n",
      "  Running \"pgcc --version\" gave \"[WinError 2] The system cannot find the file specified\"\n",
      "  \n",
      "  A full log can be found at C:\\Users\\Meet Patel\\AppData\\Local\\Temp\\pip-install-290g0zvg\\scipy_449c03903a0c47778dab304fb1bd3852\\.mesonpy-6ilxbuhs\\build\\meson-logs\\meson-log.txt\n",
      "  \u001b[36m\u001b[1m+ meson setup --native-file=C:\\Users\\Meet Patel\\AppData\\Local\\Temp\\pip-install-290g0zvg\\scipy_449c03903a0c47778dab304fb1bd3852\\.mesonpy-native-file.ini -Ddebug=false -Doptimization=2 --prefix=C:\\Users\\Meet Patel\\AppData\\Local\\Programs\\Python\\Python311 C:\\Users\\Meet Patel\\AppData\\Local\\Temp\\pip-install-290g0zvg\\scipy_449c03903a0c47778dab304fb1bd3852 C:\\Users\\Meet Patel\\AppData\\Local\\Temp\\pip-install-290g0zvg\\scipy_449c03903a0c47778dab304fb1bd3852\\.mesonpy-6ilxbuhs\\build\u001b[0m\n",
      "  Traceback (most recent call last):\n",
      "    File \"C:\\Users\\Meet Patel\\AppData\\Local\\Programs\\Python\\Python311\\Lib\\site-packages\\pip\\_vendor\\pyproject_hooks\\_in_process\\_in_process.py\", line 353, in <module>\n",
      "      main()\n",
      "    File \"C:\\Users\\Meet Patel\\AppData\\Local\\Programs\\Python\\Python311\\Lib\\site-packages\\pip\\_vendor\\pyproject_hooks\\_in_process\\_in_process.py\", line 335, in main\n",
      "      json_out['return_val'] = hook(**hook_input['kwargs'])\n",
      "                               ^^^^^^^^^^^^^^^^^^^^^^^^^^^^\n",
      "    File \"C:\\Users\\Meet Patel\\AppData\\Local\\Programs\\Python\\Python311\\Lib\\site-packages\\pip\\_vendor\\pyproject_hooks\\_in_process\\_in_process.py\", line 118, in get_requires_for_build_wheel\n",
      "      return hook(config_settings)\n",
      "             ^^^^^^^^^^^^^^^^^^^^^\n",
      "    File \"C:\\Users\\Meet Patel\\AppData\\Local\\Temp\\pip-build-env-ge_e55yq\\overlay\\Lib\\site-packages\\mesonpy\\__init__.py\", line 969, in get_requires_for_build_wheel\n",
      "      with _project(config_settings) as project:\n",
      "    File \"C:\\Users\\Meet Patel\\AppData\\Local\\Programs\\Python\\Python311\\Lib\\contextlib.py\", line 137, in __enter__\n",
      "      return next(self.gen)\n",
      "             ^^^^^^^^^^^^^^\n",
      "    File \"C:\\Users\\Meet Patel\\AppData\\Local\\Temp\\pip-build-env-ge_e55yq\\overlay\\Lib\\site-packages\\mesonpy\\__init__.py\", line 948, in _project\n",
      "      with Project.with_temp_working_dir(\n",
      "    File \"C:\\Users\\Meet Patel\\AppData\\Local\\Programs\\Python\\Python311\\Lib\\contextlib.py\", line 137, in __enter__\n",
      "      return next(self.gen)\n",
      "             ^^^^^^^^^^^^^^\n",
      "    File \"C:\\Users\\Meet Patel\\AppData\\Local\\Temp\\pip-build-env-ge_e55yq\\overlay\\Lib\\site-packages\\mesonpy\\__init__.py\", line 777, in with_temp_working_dir\n",
      "      yield cls(source_dir, tmpdir, build_dir)\n",
      "            ^^^^^^^^^^^^^^^^^^^^^^^^^^^^^^^^^^\n",
      "    File \"C:\\Users\\Meet Patel\\AppData\\Local\\Temp\\pip-build-env-ge_e55yq\\overlay\\Lib\\site-packages\\mesonpy\\__init__.py\", line 682, in __init__\n",
      "      self._configure(reconfigure=bool(build_dir) and not native_file_mismatch)\n",
      "    File \"C:\\Users\\Meet Patel\\AppData\\Local\\Temp\\pip-build-env-ge_e55yq\\overlay\\Lib\\site-packages\\mesonpy\\__init__.py\", line 713, in _configure\n",
      "      self._meson(\n",
      "    File \"C:\\Users\\Meet Patel\\AppData\\Local\\Temp\\pip-build-env-ge_e55yq\\overlay\\Lib\\site-packages\\mesonpy\\__init__.py\", line 696, in _meson\n",
      "      return self._proc('meson', *args)\n",
      "             ^^^^^^^^^^^^^^^^^^^^^^^^^^\n",
      "    File \"C:\\Users\\Meet Patel\\AppData\\Local\\Temp\\pip-build-env-ge_e55yq\\overlay\\Lib\\site-packages\\mesonpy\\__init__.py\", line 691, in _proc\n",
      "      subprocess.check_call(list(args))\n",
      "    File \"C:\\Users\\Meet Patel\\AppData\\Local\\Programs\\Python\\Python311\\Lib\\subprocess.py\", line 413, in check_call\n",
      "      raise CalledProcessError(retcode, cmd)\n",
      "  subprocess.CalledProcessError: Command '['meson', 'setup', '--native-file=C:\\\\Users\\\\Meet Patel\\\\AppData\\\\Local\\\\Temp\\\\pip-install-290g0zvg\\\\scipy_449c03903a0c47778dab304fb1bd3852\\\\.mesonpy-native-file.ini', '-Ddebug=false', '-Doptimization=2', '--prefix=C:\\\\Users\\\\Meet Patel\\\\AppData\\\\Local\\\\Programs\\\\Python\\\\Python311', 'C:\\\\Users\\\\Meet Patel\\\\AppData\\\\Local\\\\Temp\\\\pip-install-290g0zvg\\\\scipy_449c03903a0c47778dab304fb1bd3852', 'C:\\\\Users\\\\Meet Patel\\\\AppData\\\\Local\\\\Temp\\\\pip-install-290g0zvg\\\\scipy_449c03903a0c47778dab304fb1bd3852\\\\.mesonpy-6ilxbuhs\\\\build']' returned non-zero exit status 1.\n",
      "  [end of output]\n",
      "  \n",
      "  note: This error originates from a subprocess, and is likely not a problem with pip.\n",
      "error: subprocess-exited-with-error\n",
      "\n",
      "Getting requirements to build wheel did not run successfully.\n",
      "exit code: 1\n",
      "\n",
      "See above for output.\n",
      "\n",
      "note: This error originates from a subprocess, and is likely not a problem with pip.\n"
     ]
    }
   ],
   "source": [
    "pip install datawig"
   ]
  },
  {
   "cell_type": "code",
   "execution_count": 10,
   "id": "b6e28fd2",
   "metadata": {},
   "outputs": [],
   "source": [
    "data_with_age = df.dropna(subset=[\"age\"])\n",
    "data_without_age = df[df[\"age\"].isnull()]"
   ]
  },
  {
   "cell_type": "code",
   "execution_count": 11,
   "id": "af8752e1",
   "metadata": {},
   "outputs": [],
   "source": [
    "X_train = data_with_age.drop(columns=[\"age\"])\n",
    "X_test = data_without_age.drop(columns=[\"age\"])"
   ]
  },
  {
   "cell_type": "code",
   "execution_count": 12,
   "id": "2eb57371",
   "metadata": {},
   "outputs": [
    {
     "ename": "ModuleNotFoundError",
     "evalue": "No module named 'datawig'",
     "output_type": "error",
     "traceback": [
      "\u001b[1;31m---------------------------------------------------------------------------\u001b[0m",
      "\u001b[1;31mModuleNotFoundError\u001b[0m                       Traceback (most recent call last)",
      "Cell \u001b[1;32mIn[12], line 1\u001b[0m\n\u001b[1;32m----> 1\u001b[0m \u001b[38;5;28;01mimport\u001b[39;00m \u001b[38;5;21;01mdatawig\u001b[39;00m\n\u001b[0;32m      2\u001b[0m imputer \u001b[38;5;241m=\u001b[39m datawig\u001b[38;5;241m.\u001b[39mSimpleImputer(\n\u001b[0;32m      3\u001b[0m     input_columns\u001b[38;5;241m=\u001b[39mX_train\u001b[38;5;241m.\u001b[39mcolumns,\n\u001b[0;32m      4\u001b[0m     output_column\u001b[38;5;241m=\u001b[39m\u001b[38;5;124m'\u001b[39m\u001b[38;5;124mage\u001b[39m\u001b[38;5;124m'\u001b[39m\n\u001b[0;32m      5\u001b[0m )\n\u001b[0;32m      6\u001b[0m imputer\u001b[38;5;241m.\u001b[39mfit(train_df\u001b[38;5;241m=\u001b[39mdata_with_age)\n",
      "\u001b[1;31mModuleNotFoundError\u001b[0m: No module named 'datawig'"
     ]
    }
   ],
   "source": [
    "import datawig\n",
    "imputer = datawig.SimpleImputer(\n",
    "    input_columns=X_train.columns,\n",
    "    output_column='age'\n",
    ")\n",
    "imputer.fit(train_df=data_with_age)"
   ]
  },
  {
   "cell_type": "code",
   "execution_count": null,
   "id": "4e439c9e",
   "metadata": {},
   "outputs": [],
   "source": [
    "predictions = imputer.predict(data_without_age)"
   ]
  },
  {
   "cell_type": "code",
   "execution_count": null,
   "id": "be8e3aee",
   "metadata": {},
   "outputs": [],
   "source": [
    "data.loc[data[\"age\"].isnull(), \"age\"] = predictions[\"age_imputed\"]"
   ]
  },
  {
   "cell_type": "markdown",
   "id": "54b1a6eb",
   "metadata": {},
   "source": [
    "# Done, Thanks to visit, \n",
    "# Wish you luck in this field ✨"
   ]
  }
 ],
 "metadata": {
  "kernelspec": {
   "display_name": "Python 3 (ipykernel)",
   "language": "python",
   "name": "python3"
  },
  "language_info": {
   "codemirror_mode": {
    "name": "ipython",
    "version": 3
   },
   "file_extension": ".py",
   "mimetype": "text/x-python",
   "name": "python",
   "nbconvert_exporter": "python",
   "pygments_lexer": "ipython3",
   "version": "3.11.3"
  }
 },
 "nbformat": 4,
 "nbformat_minor": 5
}
