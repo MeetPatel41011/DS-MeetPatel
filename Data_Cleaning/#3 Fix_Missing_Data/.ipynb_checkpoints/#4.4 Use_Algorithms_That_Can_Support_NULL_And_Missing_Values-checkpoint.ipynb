{
 "cells": [
  {
   "cell_type": "code",
   "execution_count": 1,
   "id": "49e42fbf",
   "metadata": {},
   "outputs": [],
   "source": [
    "import pandas as pd"
   ]
  },
  {
   "cell_type": "code",
   "execution_count": null,
   "id": "379fdcae",
   "metadata": {},
   "outputs": [],
   "source": [
    "\n",
    "# -------- This portion in this whole repository is remain to write, apologisse for that, I'll complete it soon --------\n"
   ]
  },
  {
   "cell_type": "markdown",
   "id": "54b1a6eb",
   "metadata": {},
   "source": [
    "# Done, Thanks to visit, \n",
    "# Wish you luck in this field ✨"
   ]
  }
 ],
 "metadata": {
  "kernelspec": {
   "display_name": "Python 3 (ipykernel)",
   "language": "python",
   "name": "python3"
  },
  "language_info": {
   "codemirror_mode": {
    "name": "ipython",
    "version": 3
   },
   "file_extension": ".py",
   "mimetype": "text/x-python",
   "name": "python",
   "nbconvert_exporter": "python",
   "pygments_lexer": "ipython3",
   "version": "3.11.3"
  }
 },
 "nbformat": 4,
 "nbformat_minor": 5
}
