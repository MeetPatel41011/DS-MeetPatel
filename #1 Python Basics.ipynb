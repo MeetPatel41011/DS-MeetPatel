{
 "cells": [
  {
   "cell_type": "markdown",
   "id": "9ac255ba",
   "metadata": {},
   "source": [
    "# Some Pyhton fundamentals"
   ]
  },
  {
   "cell_type": "markdown",
   "id": "9d1719dd",
   "metadata": {},
   "source": [
    "## basic mathematics examples"
   ]
  },
  {
   "cell_type": "code",
   "execution_count": 13,
   "id": "17539cc3",
   "metadata": {},
   "outputs": [
    {
     "name": "stdout",
     "output_type": "stream",
     "text": [
      "4\n",
      "0\n",
      "4\n",
      "2.0\n"
     ]
    }
   ],
   "source": [
    "print(2 + 2)\n",
    "print(2 - 2)\n",
    "print(2 * 2)\n",
    "print(4 / 2)"
   ]
  },
  {
   "cell_type": "code",
   "execution_count": 14,
   "id": "17e9a488",
   "metadata": {},
   "outputs": [
    {
     "name": "stdout",
     "output_type": "stream",
     "text": [
      "1\n",
      "169\n",
      "19\n",
      "49\n"
     ]
    }
   ],
   "source": [
    "print(13 % 2)\n",
    "print(13 ** 2)\n",
    "print(3 + 4 ** 2)\n",
    "print((3 + 4) ** 2)"
   ]
  },
  {
   "cell_type": "markdown",
   "id": "62402fc6",
   "metadata": {},
   "source": [
    "## string manipulation"
   ]
  },
  {
   "cell_type": "code",
   "execution_count": 15,
   "id": "26e1d0fe",
   "metadata": {},
   "outputs": [
    {
     "name": "stdout",
     "output_type": "stream",
     "text": [
      "H\n",
      "e\n",
      "d\n",
      "l\n"
     ]
    }
   ],
   "source": [
    "str1 = 'Hello world'\n",
    "\n",
    "print(str1[0]) #indexes starts from 0 at left and -1 at right in Python\n",
    "print(str1[1])\n",
    "print(str1[-1])\n",
    "print(str1[-2])"
   ]
  },
  {
   "cell_type": "code",
   "execution_count": 16,
   "id": "ddef2d6e",
   "metadata": {},
   "outputs": [
    {
     "name": "stdout",
     "output_type": "stream",
     "text": [
      "He\n",
      "He\n",
      "llo world\n",
      "Hello world\n"
     ]
    }
   ],
   "source": [
    "print(str1[0:2]) #here, 0 is not required to write and index 2 is excluding\n",
    "print(str1[:2])\n",
    "print(str1[2:]) #here, ending index is not necessary to declare\n",
    "print(str1[:])"
   ]
  },
  {
   "cell_type": "code",
   "execution_count": 17,
   "id": "40d3a87c",
   "metadata": {},
   "outputs": [
    {
     "name": "stdout",
     "output_type": "stream",
     "text": [
      "rl\n",
      "rld\n"
     ]
    }
   ],
   "source": [
    "print(str1[-3:-1]) #here, index -1 is excluding\n",
    "print(str1[-3:])"
   ]
  },
  {
   "cell_type": "code",
   "execution_count": 18,
   "id": "841cb550",
   "metadata": {},
   "outputs": [
    {
     "name": "stdout",
     "output_type": "stream",
     "text": [
      "Hlow\n",
      "Hlow\n",
      "Hlowrd\n",
      "Hlowrd\n"
     ]
    }
   ],
   "source": [
    "print(str1[0:8:2]) # START : END : JUMP (note: jump character always exclude a element and white spaces also count in indexing.)\n",
    "print(str1[:8:2])\n",
    "print(str1[0::2])\n",
    "print(str1[::2])"
   ]
  },
  {
   "cell_type": "markdown",
   "id": "e8b50d43",
   "metadata": {},
   "source": [
    "## List manipulation and other list operations"
   ]
  },
  {
   "cell_type": "code",
   "execution_count": 19,
   "id": "d234ab5b",
   "metadata": {},
   "outputs": [
    {
     "name": "stdout",
     "output_type": "stream",
     "text": [
      "1\n",
      "2\n",
      "7\n",
      "6\n"
     ]
    }
   ],
   "source": [
    "ls = [1, 2, 3, 4, 5, 6, 7]\n",
    "\n",
    "print(ls[0]) \n",
    "print(ls[1])\n",
    "print(ls[-1])\n",
    "print(ls[-2])"
   ]
  },
  {
   "cell_type": "code",
   "execution_count": 20,
   "id": "41f33099",
   "metadata": {},
   "outputs": [
    {
     "name": "stdout",
     "output_type": "stream",
     "text": [
      "[1, 2]\n",
      "[1, 2]\n",
      "[3, 4, 5, 6, 7]\n",
      "[1, 2, 3, 4, 5, 6, 7]\n"
     ]
    }
   ],
   "source": [
    "print(ls[0:2]) \n",
    "print(ls[:2])\n",
    "print(ls[2:]) \n",
    "print(ls[:])"
   ]
  },
  {
   "cell_type": "code",
   "execution_count": 21,
   "id": "8539262a",
   "metadata": {},
   "outputs": [
    {
     "name": "stdout",
     "output_type": "stream",
     "text": [
      "[5, 6]\n",
      "[5, 6, 7]\n"
     ]
    }
   ],
   "source": [
    "print(ls[-3:-1])\n",
    "print(ls[-3:])"
   ]
  },
  {
   "cell_type": "code",
   "execution_count": 22,
   "id": "3b6f3f09",
   "metadata": {},
   "outputs": [
    {
     "name": "stdout",
     "output_type": "stream",
     "text": [
      "[1, 3, 5, 7]\n",
      "[1, 3, 5, 7]\n",
      "[1, 3, 5, 7]\n",
      "[1, 3, 5, 7]\n"
     ]
    }
   ],
   "source": [
    "print(ls[0:8:2])\n",
    "print(ls[:8:2])\n",
    "print(ls[0::2])\n",
    "print(ls[::2])"
   ]
  },
  {
   "cell_type": "code",
   "execution_count": 23,
   "id": "48497da9",
   "metadata": {},
   "outputs": [
    {
     "data": {
      "text/plain": [
       "[1, 2, 3, 4, 5, 6, 7, 8]"
      ]
     },
     "execution_count": 23,
     "metadata": {},
     "output_type": "execute_result"
    }
   ],
   "source": [
    "ls.append(8)\n",
    "ls"
   ]
  },
  {
   "cell_type": "code",
   "execution_count": 24,
   "id": "47b1474e",
   "metadata": {},
   "outputs": [
    {
     "data": {
      "text/plain": [
       "[1, 2, 4, 3, 4, 5, 6, 7, 8]"
      ]
     },
     "execution_count": 24,
     "metadata": {},
     "output_type": "execute_result"
    }
   ],
   "source": [
    "ls.insert(2, 4)\n",
    "ls"
   ]
  },
  {
   "cell_type": "code",
   "execution_count": 25,
   "id": "7aa34380",
   "metadata": {},
   "outputs": [
    {
     "data": {
      "text/plain": [
       "[1, 4, 3, 4, 5, 6, 7, 8]"
      ]
     },
     "execution_count": 25,
     "metadata": {},
     "output_type": "execute_result"
    }
   ],
   "source": [
    "ls.remove(2)\n",
    "ls"
   ]
  },
  {
   "cell_type": "code",
   "execution_count": 26,
   "id": "e80353dd",
   "metadata": {},
   "outputs": [
    {
     "data": {
      "text/plain": [
       "3"
      ]
     },
     "execution_count": 26,
     "metadata": {},
     "output_type": "execute_result"
    }
   ],
   "source": [
    "a = ls.pop(2) #it will consider index as a parameter\n",
    "a"
   ]
  },
  {
   "cell_type": "code",
   "execution_count": 53,
   "id": "13af3e12",
   "metadata": {},
   "outputs": [
    {
     "data": {
      "text/plain": [
       "6"
      ]
     },
     "execution_count": 53,
     "metadata": {},
     "output_type": "execute_result"
    }
   ],
   "source": [
    "a = ls[2]\n",
    "a"
   ]
  },
  {
   "cell_type": "code",
   "execution_count": 54,
   "id": "20e28258",
   "metadata": {},
   "outputs": [
    {
     "data": {
      "text/plain": [
       "[8, 6, 4, 2]"
      ]
     },
     "execution_count": 54,
     "metadata": {},
     "output_type": "execute_result"
    }
   ],
   "source": [
    "a = ls[::2]\n",
    "a"
   ]
  },
  {
   "cell_type": "code",
   "execution_count": 27,
   "id": "f9eda7d4",
   "metadata": {},
   "outputs": [
    {
     "data": {
      "text/plain": [
       "[1, 4, 4, 5, 6, 7, 8]"
      ]
     },
     "execution_count": 27,
     "metadata": {},
     "output_type": "execute_result"
    }
   ],
   "source": [
    "ls"
   ]
  },
  {
   "cell_type": "code",
   "execution_count": 28,
   "id": "6b1b71a9",
   "metadata": {},
   "outputs": [
    {
     "data": {
      "text/plain": [
       "['Porsche', 'McLaren', 'LaFerrari']"
      ]
     },
     "execution_count": 28,
     "metadata": {},
     "output_type": "execute_result"
    }
   ],
   "source": [
    "ls2 = ['Porsche', 'McLaren', 'LaFerrari']\n",
    "ls2"
   ]
  },
  {
   "cell_type": "code",
   "execution_count": 29,
   "id": "63ca9b28",
   "metadata": {},
   "outputs": [],
   "source": [
    "ls.extend(ls2)"
   ]
  },
  {
   "cell_type": "code",
   "execution_count": 31,
   "id": "46769b0e",
   "metadata": {
    "scrolled": true
   },
   "outputs": [
    {
     "data": {
      "text/plain": [
       "[1, 4, 4, 5, 6, 7, 8, 'Porsche', 'McLaren', 'LaFerrari']"
      ]
     },
     "execution_count": 31,
     "metadata": {},
     "output_type": "execute_result"
    }
   ],
   "source": [
    "ls"
   ]
  },
  {
   "cell_type": "code",
   "execution_count": 43,
   "id": "1f5d5687",
   "metadata": {},
   "outputs": [],
   "source": [
    "ls = [1, 2, 3, 4, 8, 5, 6, 7]"
   ]
  },
  {
   "cell_type": "code",
   "execution_count": 44,
   "id": "5431d6b3",
   "metadata": {},
   "outputs": [],
   "source": [
    "ls.sort()"
   ]
  },
  {
   "cell_type": "code",
   "execution_count": 45,
   "id": "ed4fb30a",
   "metadata": {},
   "outputs": [
    {
     "data": {
      "text/plain": [
       "[1, 2, 3, 4, 5, 6, 7, 8]"
      ]
     },
     "execution_count": 45,
     "metadata": {},
     "output_type": "execute_result"
    }
   ],
   "source": [
    "ls"
   ]
  },
  {
   "cell_type": "code",
   "execution_count": 46,
   "id": "bc629ef4",
   "metadata": {},
   "outputs": [
    {
     "data": {
      "text/plain": [
       "['Porsche', 'McLaren', 'LaFerrari']"
      ]
     },
     "execution_count": 46,
     "metadata": {},
     "output_type": "execute_result"
    }
   ],
   "source": [
    "ls2"
   ]
  },
  {
   "cell_type": "code",
   "execution_count": 47,
   "id": "f0a37479",
   "metadata": {},
   "outputs": [],
   "source": [
    "ls2.sort()"
   ]
  },
  {
   "cell_type": "code",
   "execution_count": 50,
   "id": "06b01cc8",
   "metadata": {},
   "outputs": [
    {
     "data": {
      "text/plain": [
       "['LaFerrari', 'McLaren', 'Porsche']"
      ]
     },
     "execution_count": 50,
     "metadata": {},
     "output_type": "execute_result"
    }
   ],
   "source": [
    "ls2"
   ]
  },
  {
   "cell_type": "code",
   "execution_count": 51,
   "id": "bb4786a6",
   "metadata": {},
   "outputs": [],
   "source": [
    "ls.reverse()"
   ]
  },
  {
   "cell_type": "code",
   "execution_count": 52,
   "id": "c38bb7f7",
   "metadata": {},
   "outputs": [
    {
     "data": {
      "text/plain": [
       "[8, 7, 6, 5, 4, 3, 2, 1]"
      ]
     },
     "execution_count": 52,
     "metadata": {},
     "output_type": "execute_result"
    }
   ],
   "source": [
    "ls"
   ]
  },
  {
   "cell_type": "code",
   "execution_count": 56,
   "id": "2c1dac55",
   "metadata": {},
   "outputs": [
    {
     "data": {
      "text/plain": [
       "8"
      ]
     },
     "execution_count": 56,
     "metadata": {},
     "output_type": "execute_result"
    }
   ],
   "source": [
    "len_of_ls = len(ls)\n",
    "len_of_ls"
   ]
  },
  {
   "cell_type": "code",
   "execution_count": 58,
   "id": "da6c10ab",
   "metadata": {},
   "outputs": [
    {
     "data": {
      "text/plain": [
       "8"
      ]
     },
     "execution_count": 58,
     "metadata": {},
     "output_type": "execute_result"
    }
   ],
   "source": [
    "max(ls)"
   ]
  },
  {
   "cell_type": "code",
   "execution_count": 59,
   "id": "7c579a5c",
   "metadata": {},
   "outputs": [
    {
     "data": {
      "text/plain": [
       "1"
      ]
     },
     "execution_count": 59,
     "metadata": {},
     "output_type": "execute_result"
    }
   ],
   "source": [
    "min(ls)"
   ]
  },
  {
   "cell_type": "code",
   "execution_count": 61,
   "id": "b83b2ab0",
   "metadata": {},
   "outputs": [
    {
     "name": "stdout",
     "output_type": "stream",
     "text": [
      "8\n",
      "7\n",
      "6\n",
      "5\n",
      "4\n",
      "3\n",
      "2\n",
      "1\n"
     ]
    }
   ],
   "source": [
    "for i in ls: \n",
    "    print(i)"
   ]
  }
 ],
 "metadata": {
  "kernelspec": {
   "display_name": "Python 3 (ipykernel)",
   "language": "python",
   "name": "python3"
  },
  "language_info": {
   "codemirror_mode": {
    "name": "ipython",
    "version": 3
   },
   "file_extension": ".py",
   "mimetype": "text/x-python",
   "name": "python",
   "nbconvert_exporter": "python",
   "pygments_lexer": "ipython3",
   "version": "3.11.3"
  }
 },
 "nbformat": 4,
 "nbformat_minor": 5
}
